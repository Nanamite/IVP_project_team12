{
 "cells": [
  {
   "cell_type": "code",
   "execution_count": 1,
   "metadata": {},
   "outputs": [],
   "source": [
    "from model import Model\n",
    "from torchsummary import summary"
   ]
  },
  {
   "cell_type": "code",
   "execution_count": 2,
   "metadata": {},
   "outputs": [],
   "source": [
    "model = Model(depth= 1)"
   ]
  },
  {
   "cell_type": "code",
   "execution_count": 3,
   "metadata": {},
   "outputs": [
    {
     "name": "stdout",
     "output_type": "stream",
     "text": [
      "==========================================================================================\n",
      "Layer (type:depth-idx)                   Output Shape              Param #\n",
      "==========================================================================================\n",
      "├─Sequential: 1-1                        [-1, 128, 172, 172]       --\n",
      "|    └─Conv2d: 2-1                       [-1, 16, 178, 178]        160\n",
      "|    └─BatchNorm2d: 2-2                  [-1, 16, 178, 178]        32\n",
      "|    └─ReLU: 2-3                         [-1, 16, 178, 178]        --\n",
      "|    └─Conv2d: 2-4                       [-1, 32, 176, 176]        4,640\n",
      "|    └─BatchNorm2d: 2-5                  [-1, 32, 176, 176]        64\n",
      "|    └─ReLU: 2-6                         [-1, 32, 176, 176]        --\n",
      "|    └─Conv2d: 2-7                       [-1, 64, 174, 174]        18,496\n",
      "|    └─BatchNorm2d: 2-8                  [-1, 64, 174, 174]        128\n",
      "|    └─ReLU: 2-9                         [-1, 64, 174, 174]        --\n",
      "|    └─Conv2d: 2-10                      [-1, 128, 172, 172]       73,856\n",
      "├─Sequential: 1-2                        [-1, 1, 180, 180]         --\n",
      "|    └─ConvTranspose2d: 2-11             [-1, 64, 174, 174]        73,792\n",
      "|    └─BatchNorm2d: 2-12                 [-1, 64, 174, 174]        128\n",
      "|    └─ReLU: 2-13                        [-1, 64, 174, 174]        --\n",
      "|    └─ConvTranspose2d: 2-14             [-1, 32, 176, 176]        18,464\n",
      "|    └─BatchNorm2d: 2-15                 [-1, 32, 176, 176]        64\n",
      "|    └─ReLU: 2-16                        [-1, 32, 176, 176]        --\n",
      "|    └─ConvTranspose2d: 2-17             [-1, 16, 178, 178]        4,624\n",
      "|    └─BatchNorm2d: 2-18                 [-1, 16, 178, 178]        32\n",
      "|    └─ReLU: 2-19                        [-1, 16, 178, 178]        --\n",
      "|    └─ConvTranspose2d: 2-20             [-1, 1, 180, 180]         145\n",
      "==========================================================================================\n",
      "Total params: 194,625\n",
      "Trainable params: 194,625\n",
      "Non-trainable params: 0\n",
      "Total mult-adds (G): 5.84\n",
      "==========================================================================================\n",
      "Input size (MB): 0.12\n",
      "Forward/backward pass size (MB): 133.99\n",
      "Params size (MB): 0.74\n",
      "Estimated Total Size (MB): 134.86\n",
      "==========================================================================================\n"
     ]
    }
   ],
   "source": [
    "s = summary(model, (1, 180, 180))"
   ]
  }
 ],
 "metadata": {
  "kernelspec": {
   "display_name": "Python 3",
   "language": "python",
   "name": "python3"
  },
  "language_info": {
   "codemirror_mode": {
    "name": "ipython",
    "version": 3
   },
   "file_extension": ".py",
   "mimetype": "text/x-python",
   "name": "python",
   "nbconvert_exporter": "python",
   "pygments_lexer": "ipython3",
   "version": "3.11.6"
  }
 },
 "nbformat": 4,
 "nbformat_minor": 2
}
